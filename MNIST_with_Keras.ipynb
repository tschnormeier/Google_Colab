{
  "nbformat": 4,
  "nbformat_minor": 0,
  "metadata": {
    "colab": {
      "provenance": [],
      "authorship_tag": "ABX9TyMOd2+zdNku95cg5vP3Hk6R",
      "include_colab_link": true
    },
    "kernelspec": {
      "name": "python3",
      "display_name": "Python 3"
    },
    "language_info": {
      "name": "python"
    }
  },
  "cells": [
    {
      "cell_type": "markdown",
      "metadata": {
        "id": "view-in-github",
        "colab_type": "text"
      },
      "source": [
        "<a href=\"https://colab.research.google.com/github/tschnormeier/Google_Colab/blob/main/MNIST_with_Keras.ipynb\" target=\"_parent\"><img src=\"https://colab.research.google.com/assets/colab-badge.svg\" alt=\"Open In Colab\"/></a>"
      ]
    },
    {
      "cell_type": "markdown",
      "source": [
        "# URL Titled: \"Training a neural network on MNIST with Keras\"<br>\n",
        " code based on code from URL: https://www.tensorflow.org/datasets/keras_example"
      ],
      "metadata": {
        "id": "klqOoqATRvd1"
      }
    },
    {
      "cell_type": "code",
      "source": [
        "import tensorflow as tf\n",
        "import tensorflow_datasets as tfds"
      ],
      "metadata": {
        "id": "xGemtHumRRk7"
      },
      "execution_count": 2,
      "outputs": []
    },
    {
      "cell_type": "markdown",
      "source": [
        "## Step1: Create your input pipeline"
      ],
      "metadata": {
        "id": "XeISRrcSTNxe"
      }
    },
    {
      "cell_type": "code",
      "source": [
        "# Load a Dataset\n",
        "(ds_train, ds_test), ds_info = tfds.load('mnist', split=['train', 'test'],\n",
        "                                         shuffle_files=True,\n",
        "                                         as_supervised=True,\n",
        "                                         with_info=True)"
      ],
      "metadata": {
        "id": "J41Tk_3NRjAu"
      },
      "execution_count": null,
      "outputs": []
    }
  ]
}